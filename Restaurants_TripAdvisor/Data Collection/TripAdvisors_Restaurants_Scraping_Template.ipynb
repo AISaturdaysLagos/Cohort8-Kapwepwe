{
  "cells": [
    {
      "cell_type": "code",
      "execution_count": 1,
      "id": "889a2658",
      "metadata": {
        "id": "889a2658"
      },
      "outputs": [],
      "source": [
        "import pandas as pd\n",
        "import numpy as np\n",
        "from bs4 import BeautifulSoup\n",
        "import requests"
      ]
    },
    {
      "cell_type": "code",
      "source": [
        "def get_soup(url):\n",
        "  '''Return html content of a url'''\n",
        "  # defining the headers\n",
        "  headers = {'User-Agent': 'Mozilla/5.0 (Windows NT 6.1; WOW64) AppleWebKit/537.36 (KHTML, like Gecko) Chrome/56.0.2924.76 Safari/537.36', \"Upgrade-Insecure-Requests\": \"1\",\"DNT\": \"1\",\"Accept\": \"text/html,application/xhtml+xml,application/xml;q=0.9,*/*;q=0.8\",\"Accept-Language\": \"en-US,en;q=0.5\",\"Accept-Encoding\": \"gzip, deflate\"}\n",
        "  r = requests.get(url, allow_redirects=False, headers=headers)\n",
        "  html_content = r.content\n",
        "  soup = BeautifulSoup(html_content, 'html.parser')\n",
        "\n",
        "  return soup"
      ],
      "metadata": {
        "id": "vRB0SS5E2FXQ"
      },
      "id": "vRB0SS5E2FXQ",
      "execution_count": 2,
      "outputs": []
    },
    {
      "cell_type": "code",
      "source": [
        "def get_reviews(soup):\n",
        "  '''Return a dataframe containing extracted elements'''\n",
        "  reviews = []\n",
        "\n",
        "  # extracting all the elements needed and passing them to lists\n",
        "  review_text = []\n",
        "  for x in soup.find_all('p', {'class': 'partial_entry'}):\n",
        "    review_text.append(x.text.strip())\n",
        "\n",
        "  review_rating = []\n",
        "  for y in soup.find_all('span', {'class': 'ui_bubble_rating'}):\n",
        "    review_rating.append(y['class'][1].replace('bubble_', ''))\n",
        "\n",
        "  review_title = []\n",
        "  for z in soup.find_all('span', {'class': 'noQuotes'}):\n",
        "    review_title.append(z.text.strip())\n",
        "\n",
        "  visit_date = []\n",
        "  for a in soup.find_all('div', {'class':'prw_rup prw_reviews_stay_date_hsx'}):\n",
        "    visit_date.append(a.text[15:].strip())\n",
        "\n",
        "  author_name = []\n",
        "  for b in soup.find_all('div', {'class': 'info_text pointer_cursor'}):\n",
        "    author_name.append(b.text.strip())\n",
        "\n",
        "  overall_rating = []\n",
        "  for c in range(len(review_rating)):\n",
        "    overall_rating.append(soup.find('div', {'class': 'QEQvp'}).find('span', {'class': 'ZDEqb'}).text.strip())\n",
        "\n",
        "  # for cases where there are no review texts or titles\n",
        "  if ((len(overall_rating) != len(visit_date)) | (len(review_text) != len(review_rating)) | (len(review_rating) != len(visit_date)) | (len(author_name) != len(visit_date))):\n",
        "    min_len = min(len(review_text), len(review_rating), len(review_title), len(visit_date), len(author_name), len(overall_rating))\n",
        "    print(min_len)\n",
        "    review_text = review_text[:min_len]\n",
        "    review_rating = review_rating[:min_len]\n",
        "    review_title = review_title[:min_len]\n",
        "    visit_date = visit_date[:min_len]\n",
        "    author_name = author_name[:min_len]\n",
        "    overall_rating = overall_rating[:min_len]\n",
        "\n",
        "  # inserting all necessary elements into a dataframe\n",
        "  df = pd.DataFrame({'author_name' : author_name,\n",
        "                     'review_title' : review_title,\n",
        "                     'review_text' : review_text,\n",
        "                     'author_rating' : review_rating,\n",
        "                     'visit_date' : visit_date,\n",
        "                     'overall_rating' : overall_rating})\n",
        "\n",
        "  return df"
      ],
      "metadata": {
        "id": "0CPkG2-gArLe"
      },
      "id": "0CPkG2-gArLe",
      "execution_count": 3,
      "outputs": []
    },
    {
      "cell_type": "code",
      "source": [
        "def scrape_reviews(url, total_reviews):\n",
        "  '''Extracts the needed number of review elements specified'''\n",
        "\n",
        "  final_df = pd.DataFrame()\n",
        "  soup = get_soup(url)\n",
        "  final_df = get_reviews(soup)\n",
        "\n",
        "  while len(final_df) < total_reviews:\n",
        "    try:\n",
        "      next_url = 'https://www.tripadvisor.com/' + (soup.find('a', class_='nav next ui_button primary').get('href'))\n",
        "      next_soup = get_soup(next_url)\n",
        "      df = get_reviews(next_soup)\n",
        "      final_df = pd.concat([final_df, df])\n",
        "      soup = next_soup\n",
        "    except AttributeError:\n",
        "      break\n",
        "\n",
        "  return final_df"
      ],
      "metadata": {
        "id": "r2uLtPhz_9ZK"
      },
      "id": "r2uLtPhz_9ZK",
      "execution_count": 6,
      "outputs": []
    },
    {
      "cell_type": "code",
      "execution_count": 7,
      "id": "cdf2e203",
      "metadata": {
        "colab": {
          "base_uri": "https://localhost:8080/"
        },
        "id": "cdf2e203",
        "outputId": "f42543fa-2b9f-4e22-9709-6c558487fdcc"
      },
      "outputs": [
        {
          "output_type": "stream",
          "name": "stdout",
          "text": [
            "15\n",
            "15\n",
            "15\n",
            "15\n",
            "15\n",
            "15\n",
            "15\n",
            "15\n",
            "15\n",
            "15\n",
            "15\n",
            "15\n",
            "15\n",
            "15\n",
            "15\n",
            "15\n",
            "15\n",
            "15\n",
            "15\n",
            "15\n",
            "15\n",
            "15\n",
            "15\n",
            "15\n",
            "15\n",
            "15\n",
            "15\n",
            "15\n",
            "15\n",
            "15\n",
            "15\n",
            "15\n",
            "15\n",
            "15\n",
            "15\n",
            "15\n",
            "7\n"
          ]
        }
      ],
      "source": [
        "# Define the URL of the TripAdvisor page\n",
        "url = \"https://www.tripadvisor.com/Restaurant_Review-g304026-d12063614-Reviews-Shiro_Restaurant_Bar-Lagos_Lagos_State.html\"\n",
        "\n",
        "# scrape reviews\n",
        "df = scrape_reviews(url, 555)"
      ]
    },
    {
      "cell_type": "code",
      "source": [
        "df.info()"
      ],
      "metadata": {
        "colab": {
          "base_uri": "https://localhost:8080/"
        },
        "id": "Yuc8pNrC6sMy",
        "outputId": "908187bf-d097-49db-beed-0fa86ff34055"
      },
      "id": "Yuc8pNrC6sMy",
      "execution_count": 8,
      "outputs": [
        {
          "output_type": "stream",
          "name": "stdout",
          "text": [
            "<class 'pandas.core.frame.DataFrame'>\n",
            "Int64Index: 547 entries, 0 to 6\n",
            "Data columns (total 6 columns):\n",
            " #   Column          Non-Null Count  Dtype \n",
            "---  ------          --------------  ----- \n",
            " 0   author_name     547 non-null    object\n",
            " 1   review_title    547 non-null    object\n",
            " 2   review_text     547 non-null    object\n",
            " 3   author_rating   547 non-null    object\n",
            " 4   visit_date      547 non-null    object\n",
            " 5   overall_rating  547 non-null    object\n",
            "dtypes: object(6)\n",
            "memory usage: 29.9+ KB\n"
          ]
        }
      ]
    },
    {
      "cell_type": "code",
      "source": [],
      "metadata": {
        "id": "A11skL9k8zR_"
      },
      "id": "A11skL9k8zR_",
      "execution_count": null,
      "outputs": []
    }
  ],
  "metadata": {
    "kernelspec": {
      "display_name": "Python 3 (ipykernel)",
      "language": "python",
      "name": "python3"
    },
    "language_info": {
      "codemirror_mode": {
        "name": "ipython",
        "version": 3
      },
      "file_extension": ".py",
      "mimetype": "text/x-python",
      "name": "python",
      "nbconvert_exporter": "python",
      "pygments_lexer": "ipython3",
      "version": "3.9.15"
    },
    "colab": {
      "provenance": []
    }
  },
  "nbformat": 4,
  "nbformat_minor": 5
}